{
 "cells": [
  {
   "cell_type": "markdown",
   "id": "d262a6f6-38a4-4b99-a336-a46aad38575e",
   "metadata": {},
   "source": [
    "# Sentiment model"
   ]
  },
  {
   "cell_type": "code",
   "execution_count": 1,
   "id": "0a9ab614-3a7f-4b2d-bdbb-53e894389245",
   "metadata": {},
   "outputs": [],
   "source": [
    "# conda create --name nlp python=3.10\n",
    "# pip install -U sentence-transformers\n",
    "# python -m ipykernel install --user name=nlp"
   ]
  },
  {
   "cell_type": "code",
   "execution_count": 10,
   "id": "832e48e6-600c-4af7-b1b3-04fa66a57dad",
   "metadata": {},
   "outputs": [],
   "source": [
    "import numpy as np\n",
    "from sentence_transformers import SentenceTransformer"
   ]
  },
  {
   "cell_type": "markdown",
   "id": "e10dbfe7-47b4-4255-88f8-b247e4855b35",
   "metadata": {},
   "source": [
    "### Read headlines"
   ]
  },
  {
   "cell_type": "code",
   "execution_count": 3,
   "id": "a6024bef-1085-4e7b-b70d-449c2936e521",
   "metadata": {},
   "outputs": [
    {
     "name": "stdout",
     "output_type": "stream",
     "text": [
      "['IHSA state football playoffs: See who won the championship games, from 8A to 1A\\n', 'Chicagoâ€™s winter parking ban goes into effect Sunday. Hereâ€™s what to know, snow or no snow.\\n', 'Matt Eberflusâ€™ Chicago Bears timeline: 32 losses, multiple coach firings and too many late-game missteps\\n', '10 best books of 2024: The surprising reads that stuck\\n', 'Asking-Eric\\n']\n"
     ]
    }
   ],
   "source": [
    "with open('headlines_chicagotribune_2024-12-01.txt', 'r') as file:\n",
    "    headlines = file.readlines()\n",
    "    print(headlines[:5])"
   ]
  },
  {
   "cell_type": "markdown",
   "id": "808a1b3b-fa70-4b64-a034-c8400aa61bca",
   "metadata": {},
   "source": [
    "### Score headlines"
   ]
  },
  {
   "cell_type": "code",
   "execution_count": null,
   "id": "8999e2fe-62f8-45dd-8015-aefe68393af7",
   "metadata": {},
   "outputs": [
    {
     "name": "stdout",
     "output_type": "stream",
     "text": [
      "CPU times: total: 46.9 ms\n",
      "Wall time: 938 ms\n"
     ]
    }
   ],
   "source": [
    "%%time\n",
    "#model = SentenceTransformer(\"all-MiniLM-L6-v2\")\n",
    "model = SentenceTransformer(\"/opt/huggingface_models/all-MiniLM-L6-v2\")"
   ]
  },
  {
   "cell_type": "code",
   "execution_count": 5,
   "id": "c71f7cc9-52c6-42bb-96c1-45a65f9f2ede",
   "metadata": {},
   "outputs": [
    {
     "name": "stdout",
     "output_type": "stream",
     "text": [
      "CPU times: total: 46.9 ms\n",
      "Wall time: 228 ms\n"
     ]
    }
   ],
   "source": [
    "%%time\n",
    "embeddings = model.encode(headlines)"
   ]
  },
  {
   "cell_type": "code",
   "execution_count": 6,
   "id": "0c78fce9-1c7e-4e83-81c9-a36734bfbdc7",
   "metadata": {},
   "outputs": [
    {
     "data": {
      "text/plain": [
       "(86, 384)"
      ]
     },
     "execution_count": 6,
     "metadata": {},
     "output_type": "execute_result"
    }
   ],
   "source": [
    "embeddings.shape"
   ]
  },
  {
   "cell_type": "code",
   "execution_count": 7,
   "id": "bf58c5ac-1ad4-4aff-a213-f6900e816af4",
   "metadata": {},
   "outputs": [
    {
     "data": {
      "text/plain": [
       "array([-0.08039872,  0.02565197,  0.01842797,  0.01511152, -0.03341781,\n",
       "        0.00264895,  0.03021217,  0.02179786,  0.05236979,  0.05477024,\n",
       "       -0.07041447, -0.01769681,  0.06148238, -0.02037145, -0.06859641,\n",
       "        0.02244041,  0.01022854, -0.09040186,  0.00618232, -0.11392131,\n",
       "        0.05397774, -0.02198163, -0.07340642,  0.01023917,  0.11231694,\n",
       "        0.03612855, -0.02802585,  0.03255606, -0.048088  , -0.03066326,\n",
       "       -0.00124498, -0.12335137,  0.06839582, -0.04713281,  0.0197223 ,\n",
       "       -0.06453743,  0.07108447, -0.04286587,  0.01165373,  0.06278829,\n",
       "       -0.04844401,  0.01182603,  0.08480304, -0.00465209, -0.04965934,\n",
       "       -0.02966073, -0.09079035,  0.01200451,  0.00284581,  0.09196205],\n",
       "      dtype=float32)"
      ]
     },
     "execution_count": 7,
     "metadata": {},
     "output_type": "execute_result"
    }
   ],
   "source": [
    "embeddings[0][:50]"
   ]
  },
  {
   "cell_type": "code",
   "execution_count": 8,
   "id": "d6472de1-a319-4a33-80e8-d5c86c8d975b",
   "metadata": {},
   "outputs": [],
   "source": [
    "#embeddings.tofile('headlines_chicagotribune_2024-12-01.npy') # this doesn't save the dimensions??? :("
   ]
  },
  {
   "cell_type": "code",
   "execution_count": 11,
   "id": "16976cd8-b6f0-4425-a351-7312f1bd1d47",
   "metadata": {},
   "outputs": [],
   "source": [
    "np.save('headlines_chicagotribune_2024-12-01.npy', embeddings)"
   ]
  },
  {
   "cell_type": "code",
   "execution_count": null,
   "id": "8b203aa3-3024-4dc0-8b40-5e5b01709f4b",
   "metadata": {},
   "outputs": [],
   "source": []
  }
 ],
 "metadata": {
  "kernelspec": {
   "display_name": "nlp",
   "language": "python",
   "name": "nlp"
  },
  "language_info": {
   "codemirror_mode": {
    "name": "ipython",
    "version": 3
   },
   "file_extension": ".py",
   "mimetype": "text/x-python",
   "name": "python",
   "nbconvert_exporter": "python",
   "pygments_lexer": "ipython3",
   "version": "3.10.15"
  }
 },
 "nbformat": 4,
 "nbformat_minor": 5
}
