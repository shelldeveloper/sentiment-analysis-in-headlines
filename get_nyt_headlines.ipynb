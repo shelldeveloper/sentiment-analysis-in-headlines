{
 "cells": [
  {
   "cell_type": "markdown",
   "id": "da283a2e-c95a-4700-abac-b21b5f7e6021",
   "metadata": {},
   "source": [
    "# Scrape NYT"
   ]
  },
  {
   "cell_type": "markdown",
   "id": "4a8ed946-9020-4485-b57a-89b03a5ba9fd",
   "metadata": {},
   "source": [
    "### Sample HTML tag"
   ]
  },
  {
   "cell_type": "markdown",
   "id": "f059ff79-9ded-458f-86a9-ef76a8a51d7c",
   "metadata": {},
   "source": [
    "```html\n",
    "<section class=\"story-wrapper\"><a class=\"css-9mylee\" href=\"https://www.nytimes.com/2024/12/01/us/politics/biden-hunter-pardon-politics.html\" data-uri=\"nyt://article/dffb88f6-058f-5e6f-8a61-6b4c08e420e4\" aria-hidden=\"false\"><div><div class=\"css-xdandi\"><div class=\"css-1a3ibh4\"><p class=\"css-tdd4a3\"><span class=\"css-wt2ynm\">Analysis</span></p></div><p class=\"indicate-hover css-91bpc3\">In Pardoning His Son, Biden Echoes Some of Trump’s Complaints</p></div><p class=\"summary-class css-1l5zmz6\">President Biden and President-elect Trump now agree on one thing: The Biden Justice Department has been politicized.</p><div class=\"css-1tic89u\"><div><p class=\"css-1a0ymrn\" data-ttr=\"1\">7 min read</p></div></div></div></a></section>\n",
    "```"
   ]
  },
  {
   "cell_type": "markdown",
   "id": "7dd03908-a216-4c39-a803-78d548320362",
   "metadata": {},
   "source": [
    "Notice that we need to extract the headline, as well as the summary"
   ]
  },
  {
   "cell_type": "markdown",
   "id": "a37cc2ef-ccd3-4a9c-bf23-97498a5dc4aa",
   "metadata": {},
   "source": [
    "### Code\n",
    "(you may have to install BeautifulSoup)"
   ]
  },
  {
   "cell_type": "code",
   "execution_count": 8,
   "id": "c426c27c-6fa5-44a9-b27b-1a807e48a413",
   "metadata": {},
   "outputs": [],
   "source": [
    "from bs4 import BeautifulSoup"
   ]
  },
  {
   "cell_type": "code",
   "execution_count": 10,
   "id": "6c6af93e-7949-4929-873d-f6237403ee30",
   "metadata": {},
   "outputs": [],
   "source": [
    "html_element = \"\"\"<section class=\"story-wrapper\"><a class=\"css-9mylee\" href=\"https://www.nytimes.com/2024/12/01/us/politics/biden-hunter-pardon-politics.html\" data-uri=\"nyt://article/dffb88f6-058f-5e6f-8a61-6b4c08e420e4\" aria-hidden=\"false\"><div><div class=\"css-xdandi\"><div class=\"css-1a3ibh4\"><p class=\"css-tdd4a3\"><span class=\"css-wt2ynm\">Analysis</span></p></div><p class=\"indicate-hover css-91bpc3\">In Pardoning His Son, Biden Echoes Some of Trump’s Complaints</p></div><p class=\"summary-class css-1l5zmz6\">President Biden and President-elect Trump now agree on one thing: The Biden Justice Department has been politicized.</p><div class=\"css-1tic89u\"><div><p class=\"css-1a0ymrn\" data-ttr=\"1\">7 min read</p></div></div></div></a></section>\"\"\""
   ]
  },
  {
   "cell_type": "code",
   "execution_count": 12,
   "id": "0f9a6109-35f7-431b-8bc1-7a5783bbeda2",
   "metadata": {},
   "outputs": [],
   "source": [
    "soup = BeautifulSoup(html_element, 'html.parser')"
   ]
  },
  {
   "cell_type": "code",
   "execution_count": 48,
   "id": "da125fcd-35a0-42f5-b942-1b04df214fc0",
   "metadata": {},
   "outputs": [
    {
     "data": {
      "text/plain": [
       "(<p class=\"indicate-hover css-91bpc3\">In Pardoning His Son, Biden Echoes Some of Trump’s Complaints</p>,\n",
       " <p class=\"summary-class css-1l5zmz6\">President Biden and President-elect Trump now agree on one thing: The Biden Justice Department has been politicized.</p>)"
      ]
     },
     "execution_count": 48,
     "metadata": {},
     "output_type": "execute_result"
    }
   ],
   "source": [
    "headline1 = soup.find('section', class_='story-wrapper')\n",
    "headline1.find_all('p')[1], headline1.find_all('p')[2]"
   ]
  },
  {
   "cell_type": "code",
   "execution_count": 64,
   "id": "0c8ec4ae-a642-4f7f-89b2-1e8a92dfc97c",
   "metadata": {},
   "outputs": [
    {
     "data": {
      "text/plain": [
       "'In Pardoning His Son, Biden Echoes Some of Trump’s Complaints. President Biden and President-elect Trump now agree on one thing: The Biden Justice Department has been politicized.'"
      ]
     },
     "execution_count": 64,
     "metadata": {},
     "output_type": "execute_result"
    }
   ],
   "source": [
    "title_and_summary_tag = headline1.find_all('p')\n",
    "title = title_and_summary_tag[1].text\n",
    "summary = title_and_summary_tag[2].text\n",
    "\n",
    "title_and_summary = title + \". \" + summary\n",
    "title_and_summary"
   ]
  },
  {
   "cell_type": "code",
   "execution_count": 120,
   "id": "7c7df5f3-d86d-4464-81ff-29be31d9a2a9",
   "metadata": {},
   "outputs": [],
   "source": [
    "def get_text(html_element):\n",
    "    title_and_summary_tag = html_element.find_all('p')\n",
    "\n",
    "    if len(title_and_summary_tag) == 0: return None\n",
    "    \n",
    "    if len(title_and_summary_tag) < 2: # This function is not very robust :(\n",
    "        return title_and_summary_tag[0].text\n",
    "        \n",
    "    title   = title_and_summary_tag[0].text\n",
    "    summary = title_and_summary_tag[1].text\n",
    "    \n",
    "    title_and_summary = title + \". \" + summary\n",
    "    title_and_summary\n",
    "\n",
    "    return title_and_summary"
   ]
  },
  {
   "cell_type": "code",
   "execution_count": 99,
   "id": "1ef925a2-d6ab-4102-98dd-393d607addc4",
   "metadata": {},
   "outputs": [
    {
     "data": {
      "text/plain": [
       "'Analysis. In Pardoning His Son, Biden Echoes Some of Trump’s Complaints'"
      ]
     },
     "execution_count": 99,
     "metadata": {},
     "output_type": "execute_result"
    }
   ],
   "source": [
    "get_text(headline1)"
   ]
  },
  {
   "cell_type": "markdown",
   "id": "1cd533a0-d10e-433d-bd83-6a824e32818e",
   "metadata": {},
   "source": [
    "### Find ALL headlines"
   ]
  },
  {
   "cell_type": "markdown",
   "id": "776a24d8-3a77-43ae-8387-e28b0f4663b7",
   "metadata": {},
   "source": [
    "First, we download the front-page"
   ]
  },
  {
   "cell_type": "code",
   "execution_count": 68,
   "id": "9f99d738-68f0-4962-aed5-e9127f4f5ab1",
   "metadata": {},
   "outputs": [],
   "source": [
    "import requests"
   ]
  },
  {
   "cell_type": "code",
   "execution_count": 69,
   "id": "3a4dc7e1-2ebd-458b-b4ff-6235304f2933",
   "metadata": {},
   "outputs": [
    {
     "name": "stdout",
     "output_type": "stream",
     "text": [
      "CPU times: total: 0 ns\n",
      "Wall time: 295 ms\n"
     ]
    }
   ],
   "source": [
    "%%time\n",
    "response = requests.get('https://www.nytimes.com/')"
   ]
  },
  {
   "cell_type": "code",
   "execution_count": 72,
   "id": "b7d4c7b1-39fc-4669-a648-d689c44759c4",
   "metadata": {},
   "outputs": [
    {
     "data": {
      "text/plain": [
       "<Response [200]>"
      ]
     },
     "execution_count": 72,
     "metadata": {},
     "output_type": "execute_result"
    }
   ],
   "source": [
    "response"
   ]
  },
  {
   "cell_type": "code",
   "execution_count": 74,
   "id": "4c089142-47f7-41d2-8e79-6aee9ca57c24",
   "metadata": {},
   "outputs": [
    {
     "name": "stdout",
     "output_type": "stream",
     "text": [
      "<!DOCTYPE html>\n",
      "<html lang=\"en\" class=\" nytapp-vi-homepage \"  xmlns:og=\"http://opengraphprotocol.org/schema/\">\n",
      "  <head>\n",
      "    \n",
      "    \n",
      "    \n",
      "    <meta charset=\"utf-8\" />\n",
      "    <title data-rh=\"true\">The New York Times - Breaking News, US News, World News and Videos</title>\n",
      "    <meta data-rh=\"true\" name=\"description\" content=\"Live news, investigations, opinion, photos and video by the journalists of The New York Times from more than 150 countries around the world. Subscribe for coverage of U.S. and intern\n"
     ]
    }
   ],
   "source": [
    "print(response.text[:500])"
   ]
  },
  {
   "cell_type": "code",
   "execution_count": 76,
   "id": "7f73c302-10aa-4021-9851-4588f33e181b",
   "metadata": {},
   "outputs": [],
   "source": [
    "html = BeautifulSoup(response.text)"
   ]
  },
  {
   "cell_type": "code",
   "execution_count": 78,
   "id": "e418f005-e44a-475b-82fa-2a6fd4c60add",
   "metadata": {},
   "outputs": [
    {
     "data": {
      "text/plain": [
       "[<section class=\"story-wrapper\"><a aria-hidden=\"false\" class=\"css-9mylee\" data-uri=\"nyt://article/bef4947b-a6fe-5d15-8030-c60d25bdc916\" href=\"https://www.nytimes.com/2024/12/01/us/politics/biden-pardon-son-hunter.html\"><div><div class=\"css-xdandi\"><p class=\"indicate-hover css-1gg6cw2\">Biden Issues a ‘Full and Unconditional Pardon’ of His Son Hunter</p></div><p class=\"summary-class css-ofqxyv\">After pledging not do so amid President-elect Trump’s attacks, President Biden ended Hunter Biden’s legal woes, including a guilty verdict in a gun case.</p><div class=\"css-1tic89u\"><div><p class=\"css-1a0ymrn\" data-ttr=\"1\">6 min read</p></div></div></div></a></section>,\n",
       " <section class=\"story-wrapper\"><a aria-hidden=\"false\" class=\"css-9mylee\" data-uri=\"nyt://article/dffb88f6-058f-5e6f-8a61-6b4c08e420e4\" href=\"https://www.nytimes.com/2024/12/01/us/politics/biden-hunter-pardon-politics.html\"><div><div class=\"css-xdandi\"><div class=\"css-1a3ibh4\"><p class=\"css-tdd4a3\"><span class=\"css-wt2ynm\">Analysis</span></p></div><p class=\"indicate-hover css-91bpc3\">In Pardoning His Son, Biden Echoes Some of Trump’s Complaints</p></div><p class=\"summary-class css-1l5zmz6\">President Biden and President-elect Trump now agree on one thing: The Biden Justice Department has been politicized.</p><div class=\"css-1tic89u\"><div><p class=\"css-1a0ymrn\" data-ttr=\"1\">7 min read</p></div></div></div></a></section>,\n",
       " <section class=\"story-wrapper\"><a aria-hidden=\"false\" class=\"css-9mylee\" data-uri=\"nyt://article/0e01b204-d822-5177-8651-19eee88a9ca8\" href=\"https://www.nytimes.com/2024/12/01/us/politics/hunter-biden-crimes.html\"><div><div class=\"css-xdandi\"><p class=\"indicate-hover css-1a5fuvt\">Hunter Biden Faced Prison Time for Tax and Gun Charges</p></div><div class=\"css-1tic89u\"><div><p class=\"css-1a0ymrn\" data-ttr=\"1\">1 min read</p></div></div></div></a></section>,\n",
       " <section class=\"story-wrapper css-5rwu3a\"><a aria-hidden=\"false\" class=\"css-9mylee\" data-uri=\"nyt://article/1d961f95-6e7d-5863-82f6-d31eb36d2945\" href=\"https://www.nytimes.com/2024/12/02/podcasts/hunter-biden-pardon-trump-fbi-syria-civil-war.html\"><div class=\"css-k008qs\"><span class=\"css-nn5e6h\"><figure class=\"container-margin css-hurk9l\"><div class=\"css-wne2ji\"><picture class=\"css-hdqqnp\"><source class=\"css-hdqqnp\" media=\"screen and (min-width: 601px)\"/><img alt=\"President Biden and his son Hunter, wearing dark overcoats, descend from a plane.\" class=\"css-dzl7b5\" loading=\"lazy\"/><noscript><img alt=\"President Biden and his son Hunter, wearing dark overcoats, descend from a plane.\" class=\"css-122y91a\" src=\"https://static01.nyt.com/images/2024/12/02/multimedia/02headlines-bidens-parden-1-zkhm/02headlines-bidens-parden-1-zkhm-mediumSquareAt3X.jpg?format=pjpg&amp;quality=75&amp;auto=webp&amp;disable=upscale\"/></noscript></picture></div></figure></span><div><div class=\"css-xdandi\"><div class=\"css-1a3ibh4\"><p class=\"css-tdd4a3\"><span class=\"css-1p26664\">The Headlines</span><span class=\"css-inu6q5\">Audio</span></p></div><p class=\"indicate-hover css-1a5fuvt\">Biden Pardons His Son in U-Turn, Syrian Rebels Advance, and More</p></div><div class=\"css-zsumg4\"><div class=\"css-1vmm8al\"><svg fill=\"none\" height=\"24\" viewbox=\"0 0 28 28\" width=\"24\" xmlns=\"http://www.w3.org/2000/svg\"><circle cx=\"14\" cy=\"14\" r=\"13.5\" stroke=\"var(--color-stroke-quaternary,#DFDFDF)\"></circle><path d=\"M20.125 14L10.9375 19.3044L10.9375 8.69559L20.125 14Z\" fill=\"var(--color-stroke-primary,#121212)\"></path></svg></div><p class=\"css-fdpae6\">11<!-- --> min listen</p></div></div></div></a></section>,\n",
       " <section class=\"story-wrapper\"><a aria-hidden=\"false\" class=\"css-9mylee\" data-uri=\"nyt://article/53851a87-44d9-5ea7-93ba-bed01967c570\" href=\"https://www.nytimes.com/2024/12/02/us/politics/trump-defiance-appointees.html\"><div><div class=\"css-xdandi\"><div class=\"css-1a3ibh4\"><p class=\"css-tdd4a3\"><span class=\"css-wt2ynm\">Analysis</span></p></div><p class=\"indicate-hover css-91bpc3\">Trump Remains Defiant After the Collapse of the Matt Gaetz Selection</p></div><p class=\"summary-class css-1l5zmz6\">President-elect Trump’s decision to install Kash Patel as F.B.I. director indicates that he remains undaunted by Washington resistance to his choices.</p><div class=\"css-1tic89u\"><div><p class=\"css-1a0ymrn\" data-ttr=\"1\">7 min read</p></div></div></div></a></section>]"
      ]
     },
     "execution_count": 78,
     "metadata": {},
     "output_type": "execute_result"
    }
   ],
   "source": [
    "html.find_all(class_=\"story-wrapper\")[:5]"
   ]
  },
  {
   "cell_type": "markdown",
   "id": "97f6bbec-02f8-4192-8e7a-8f385e63ecba",
   "metadata": {},
   "source": [
    "### Extract headlines"
   ]
  },
  {
   "cell_type": "code",
   "execution_count": 80,
   "id": "75043c72-c7d8-4ce3-a25a-78505c5d7c36",
   "metadata": {},
   "outputs": [
    {
     "data": {
      "text/plain": [
       "<section class=\"story-wrapper\"><a aria-hidden=\"false\" class=\"css-9mylee\" data-uri=\"nyt://article/bef4947b-a6fe-5d15-8030-c60d25bdc916\" href=\"https://www.nytimes.com/2024/12/01/us/politics/biden-pardon-son-hunter.html\"><div><div class=\"css-xdandi\"><p class=\"indicate-hover css-1gg6cw2\">Biden Issues a ‘Full and Unconditional Pardon’ of His Son Hunter</p></div><p class=\"summary-class css-ofqxyv\">After pledging not do so amid President-elect Trump’s attacks, President Biden ended Hunter Biden’s legal woes, including a guilty verdict in a gun case.</p><div class=\"css-1tic89u\"><div><p class=\"css-1a0ymrn\" data-ttr=\"1\">6 min read</p></div></div></div></a></section>"
      ]
     },
     "execution_count": 80,
     "metadata": {},
     "output_type": "execute_result"
    }
   ],
   "source": [
    "html.find_all(class_=\"story-wrapper\")[0]"
   ]
  },
  {
   "cell_type": "code",
   "execution_count": 84,
   "id": "85e495ab-2ff8-4239-a2f7-2f554f4a14be",
   "metadata": {},
   "outputs": [
    {
     "data": {
      "text/plain": [
       "[<p class=\"indicate-hover css-1gg6cw2\">Biden Issues a ‘Full and Unconditional Pardon’ of His Son Hunter</p>,\n",
       " <p class=\"summary-class css-ofqxyv\">After pledging not do so amid President-elect Trump’s attacks, President Biden ended Hunter Biden’s legal woes, including a guilty verdict in a gun case.</p>,\n",
       " <p class=\"css-1a0ymrn\" data-ttr=\"1\">6 min read</p>]"
      ]
     },
     "execution_count": 84,
     "metadata": {},
     "output_type": "execute_result"
    }
   ],
   "source": [
    "html.find_all(class_=\"story-wrapper\")[0].find_all('p')"
   ]
  },
  {
   "cell_type": "code",
   "execution_count": 104,
   "id": "3ff6f182-953d-42b9-b77f-6200349e4a10",
   "metadata": {},
   "outputs": [
    {
     "name": "stdout",
     "output_type": "stream",
     "text": [
      "Biden Issues a ‘Full and Unconditional Pardon’ of His Son Hunter. After pledging not do so amid President-elect Trump’s attacks, President Biden ended Hunter Biden’s legal woes, including a guilty verdict in a gun case.\n",
      "Analysis. In Pardoning His Son, Biden Echoes Some of Trump’s Complaints\n",
      "Hunter Biden Faced Prison Time for Tax and Gun Charges. 1 min read\n",
      "The HeadlinesAudio. Biden Pardons His Son in U-Turn, Syrian Rebels Advance, and More\n",
      "Analysis. Trump Remains Defiant After the Collapse of the Matt Gaetz Selection\n",
      "Schumer Presses for F.B.I. Checks and Senate Consideration of Trump Nominees. In a letter, Senator Chuck Schumer said Democrats would work with Republicans, but asserted that Donald Trump’s picks should undergo Senate vetting.\n",
      "Kash Patel Would Bring Bravado and Baggage to F.B.I. Role. 6 min read\n",
      "Kash Patel Would Bring Bravado and Baggage to F.B.I. Role. 6 min read\n",
      "Distrustful of Health Agencies, These Voters Cheer Trump’s Picks to Run Them. 6 min read\n",
      "Distrustful of Health Agencies, These Voters Cheer Trump’s Picks to Run Them. 6 min read\n",
      "What’s Next in U.S. Elections: Races to Watch in 2025. 4 min read\n",
      "What’s Next in U.S. Elections: Races to Watch in 2025. 4 min read\n",
      "Analysis. Syria’s Rebels Struck When Assad’s Allies Were Weakened and Distracted\n",
      "Israel Builds Bases in Central Gaza, a Sign It May Be There to Stay. In recent months, soldiers have demolished more than 600 buildings to create a buffer area and expanded a network of bases, a New York Times analysis shows.\n",
      "Russia’s Economy Is Slowing, Opening Fissures Over Policy. The slowdown is worrying for the Kremlin but not serious enough to significantly hobble its war effort.\n"
     ]
    }
   ],
   "source": [
    "for e in html.find_all(class_=\"story-wrapper\")[:15]:\n",
    "    #print(e)\n",
    "    print(get_text(e))"
   ]
  },
  {
   "cell_type": "code",
   "execution_count": 122,
   "id": "982af19a-a5a7-4ded-a6a5-07dcf7e8018d",
   "metadata": {},
   "outputs": [],
   "source": [
    "headlines = [get_text(headline) for headline in html.find_all(class_=\"story-wrapper\")]"
   ]
  },
  {
   "cell_type": "code",
   "execution_count": 124,
   "id": "74e83048-cbdb-40cf-8bcb-a2c455f663c9",
   "metadata": {},
   "outputs": [
    {
     "data": {
      "text/plain": [
       "['Biden Issues a ‘Full and Unconditional Pardon’ of His Son Hunter. After pledging not do so amid President-elect Trump’s attacks, President Biden ended Hunter Biden’s legal woes, including a guilty verdict in a gun case.',\n",
       " 'Analysis. In Pardoning His Son, Biden Echoes Some of Trump’s Complaints',\n",
       " 'Hunter Biden Faced Prison Time for Tax and Gun Charges. 1 min read',\n",
       " 'The HeadlinesAudio. Biden Pardons His Son in U-Turn, Syrian Rebels Advance, and More',\n",
       " 'Analysis. Trump Remains Defiant After the Collapse of the Matt Gaetz Selection']"
      ]
     },
     "execution_count": 124,
     "metadata": {},
     "output_type": "execute_result"
    }
   ],
   "source": [
    "headlines[:5]"
   ]
  },
  {
   "cell_type": "code",
   "execution_count": 126,
   "id": "732ed155-39bc-4cf5-b29a-e4e87650a63c",
   "metadata": {},
   "outputs": [
    {
     "data": {
      "text/plain": [
       "99"
      ]
     },
     "execution_count": 126,
     "metadata": {},
     "output_type": "execute_result"
    }
   ],
   "source": [
    "len(headlines)"
   ]
  },
  {
   "cell_type": "markdown",
   "id": "69b380bc-83af-4483-9ad6-00f09abd64ab",
   "metadata": {},
   "source": [
    "### Write headlines to file"
   ]
  },
  {
   "cell_type": "markdown",
   "id": "54eeccab-8552-4a90-9c08-c4d7b68cc106",
   "metadata": {},
   "source": [
    "#### Create the filename"
   ]
  },
  {
   "cell_type": "code",
   "execution_count": 130,
   "id": "c661cc4d-1981-4d19-ada1-1eb6fbf5912f",
   "metadata": {},
   "outputs": [],
   "source": [
    "import datetime"
   ]
  },
  {
   "cell_type": "code",
   "execution_count": 132,
   "id": "c89c4581-3115-4c89-acb0-6606de79ee5c",
   "metadata": {},
   "outputs": [
    {
     "data": {
      "text/plain": [
       "datetime.datetime(2024, 12, 2, 6, 8, 55, 758276)"
      ]
     },
     "execution_count": 132,
     "metadata": {},
     "output_type": "execute_result"
    }
   ],
   "source": [
    "datetime.datetime.today()"
   ]
  },
  {
   "cell_type": "code",
   "execution_count": 134,
   "id": "f87311ab-97b7-4136-89f2-1bee2b913abc",
   "metadata": {},
   "outputs": [
    {
     "data": {
      "text/plain": [
       "'2024-12-02'"
      ]
     },
     "execution_count": 134,
     "metadata": {},
     "output_type": "execute_result"
    }
   ],
   "source": [
    "datetime.datetime.today().strftime('%Y-%m-%d')"
   ]
  },
  {
   "cell_type": "code",
   "execution_count": 136,
   "id": "835b6aef-ecd6-4e32-a174-98129b73ed20",
   "metadata": {},
   "outputs": [],
   "source": [
    "TODAY = datetime.datetime.today().strftime('%Y-%m-%d')"
   ]
  },
  {
   "cell_type": "code",
   "execution_count": 137,
   "id": "1c719f4d-5713-4083-a724-f562dec005a8",
   "metadata": {},
   "outputs": [
    {
     "data": {
      "text/plain": [
       "'2024-12-02'"
      ]
     },
     "execution_count": 137,
     "metadata": {},
     "output_type": "execute_result"
    }
   ],
   "source": [
    "TODAY"
   ]
  },
  {
   "cell_type": "code",
   "execution_count": 140,
   "id": "b953afae-aba6-4f29-b2ec-f6509d9aaf7c",
   "metadata": {},
   "outputs": [
    {
     "data": {
      "text/plain": [
       "'headlines_nyt_2024-12-02.txt'"
      ]
     },
     "execution_count": 140,
     "metadata": {},
     "output_type": "execute_result"
    }
   ],
   "source": [
    "filename = f\"headlines_nyt_{TODAY}.txt\"\n",
    "filename"
   ]
  },
  {
   "cell_type": "code",
   "execution_count": 144,
   "id": "d0126d94-1c3e-4e32-a0fc-9c6b8d4eb92f",
   "metadata": {},
   "outputs": [],
   "source": [
    "with open(filename, 'w', encoding='utf-8') as output_file:\n",
    "    for headline in headlines:\n",
    "        if headline is None: continue\n",
    "        output_file.write(headline + '\\n')"
   ]
  },
  {
   "cell_type": "code",
   "execution_count": null,
   "id": "72aeeb0c-c737-4ebd-9711-057bb8568efa",
   "metadata": {},
   "outputs": [],
   "source": []
  },
  {
   "cell_type": "code",
   "execution_count": null,
   "id": "fae5d21a-0622-4ee7-83ae-b9fa133ef9a0",
   "metadata": {},
   "outputs": [],
   "source": []
  }
 ],
 "metadata": {
  "kernelspec": {
   "display_name": "Python 3 (ipykernel)",
   "language": "python",
   "name": "python3"
  },
  "language_info": {
   "codemirror_mode": {
    "name": "ipython",
    "version": 3
   },
   "file_extension": ".py",
   "mimetype": "text/x-python",
   "name": "python",
   "nbconvert_exporter": "python",
   "pygments_lexer": "ipython3",
   "version": "3.12.7"
  }
 },
 "nbformat": 4,
 "nbformat_minor": 5
}
