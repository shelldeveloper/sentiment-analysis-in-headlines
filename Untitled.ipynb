{
 "cells": [
  {
   "cell_type": "markdown",
   "id": "bbf584fa-ee8d-48ca-80ef-7b0bb634bd59",
   "metadata": {},
   "source": [
    "# Get LA Times headlines"
   ]
  },
  {
   "cell_type": "code",
   "execution_count": null,
   "id": "71f46e2d-3075-4b71-a374-b30402cb90f5",
   "metadata": {},
   "outputs": [],
   "source": []
  }
 ],
 "metadata": {
  "kernelspec": {
   "display_name": "Python 3 (ipykernel)",
   "language": "python",
   "name": "python3"
  },
  "language_info": {
   "codemirror_mode": {
    "name": "ipython",
    "version": 3
   },
   "file_extension": ".py",
   "mimetype": "text/x-python",
   "name": "python",
   "nbconvert_exporter": "python",
   "pygments_lexer": "ipython3",
   "version": "3.12.7"
  }
 },
 "nbformat": 4,
 "nbformat_minor": 5
}
